{
 "cells": [
  {
   "cell_type": "markdown",
   "id": "8297e1f8",
   "metadata": {
    "papermill": {
     "duration": 0.004754,
     "end_time": "2025-06-09T22:09:09.103496",
     "exception": false,
     "start_time": "2025-06-09T22:09:09.098742",
     "status": "completed"
    },
    "tags": []
   },
   "source": [
    "**This notebook is an exercise in the [Python](https://www.kaggle.com/learn/python) course.  You can reference the tutorial at [this link](https://www.kaggle.com/colinmorris/strings-and-dictionaries).**\n",
    "\n",
    "---\n"
   ]
  },
  {
   "cell_type": "markdown",
   "id": "7d36c657",
   "metadata": {
    "papermill": {
     "duration": 0.003481,
     "end_time": "2025-06-09T22:09:09.110996",
     "exception": false,
     "start_time": "2025-06-09T22:09:09.107515",
     "status": "completed"
    },
    "tags": []
   },
   "source": [
    "You are almost done with the course. Nice job!\n",
    "\n",
    "We have a couple more interesting problems for you before you go. \n",
    "\n",
    "As always, run the setup code below before working on the questions."
   ]
  },
  {
   "cell_type": "code",
   "execution_count": 1,
   "id": "c1dd0158",
   "metadata": {
    "execution": {
     "iopub.execute_input": "2025-06-09T22:09:09.120404Z",
     "iopub.status.busy": "2025-06-09T22:09:09.120093Z",
     "iopub.status.idle": "2025-06-09T22:09:11.346570Z",
     "shell.execute_reply": "2025-06-09T22:09:11.345509Z"
    },
    "papermill": {
     "duration": 2.233229,
     "end_time": "2025-06-09T22:09:11.348148",
     "exception": false,
     "start_time": "2025-06-09T22:09:09.114919",
     "status": "completed"
    },
    "tags": []
   },
   "outputs": [
    {
     "name": "stdout",
     "output_type": "stream",
     "text": [
      "Setup complete.\n"
     ]
    }
   ],
   "source": [
    "from learntools.core import binder; binder.bind(globals())\n",
    "from learntools.python.ex6 import *\n",
    "print('Setup complete.')"
   ]
  },
  {
   "cell_type": "markdown",
   "id": "6f3e9db7",
   "metadata": {
    "papermill": {
     "duration": 0.003915,
     "end_time": "2025-06-09T22:09:11.356200",
     "exception": false,
     "start_time": "2025-06-09T22:09:11.352285",
     "status": "completed"
    },
    "tags": []
   },
   "source": [
    "Let's start with a string lightning round to warm up. What are the lengths of the strings below?\n",
    "\n",
    "For each of the five strings below, predict what `len()` would return when passed that string. Use the variable `length` to record your answer, then run the cell to check whether you were right.  \n",
    "\n",
    "# 0a."
   ]
  },
  {
   "cell_type": "code",
   "execution_count": 2,
   "id": "2afad64e",
   "metadata": {
    "execution": {
     "iopub.execute_input": "2025-06-09T22:09:11.366194Z",
     "iopub.status.busy": "2025-06-09T22:09:11.365463Z",
     "iopub.status.idle": "2025-06-09T22:09:11.374977Z",
     "shell.execute_reply": "2025-06-09T22:09:11.373753Z"
    },
    "papermill": {
     "duration": 0.016559,
     "end_time": "2025-06-09T22:09:11.376966",
     "exception": false,
     "start_time": "2025-06-09T22:09:11.360407",
     "status": "completed"
    },
    "tags": []
   },
   "outputs": [
    {
     "data": {
      "application/javascript": [
       "parent.postMessage({\"jupyterEvent\": \"custom.exercise_interaction\", \"data\": {\"outcomeType\": 1, \"valueTowardsCompletion\": 0.3333333333333333, \"interactionType\": 1, \"questionType\": 1, \"questionId\": \"0.1_ZA\", \"learnToolsVersion\": \"0.3.5\", \"failureMessage\": \"\", \"exceptionClass\": \"\", \"trace\": \"\"}}, \"*\")"
      ],
      "text/plain": [
       "<IPython.core.display.Javascript object>"
      ]
     },
     "metadata": {},
     "output_type": "display_data"
    },
    {
     "data": {
      "text/markdown": [
       "<span style=\"color:#33cc33\">Correct:</span> \n",
       "\n",
       "The empty string has length zero. Note that the empty string is also the only string that Python considers as False when converting to boolean."
      ],
      "text/plain": [
       "Correct: \n",
       "\n",
       "The empty string has length zero. Note that the empty string is also the only string that Python considers as False when converting to boolean."
      ]
     },
     "metadata": {},
     "output_type": "display_data"
    }
   ],
   "source": [
    "a = \"\"\n",
    "length = 0\n",
    "q0.a.check()"
   ]
  },
  {
   "cell_type": "markdown",
   "id": "e95028d0",
   "metadata": {
    "papermill": {
     "duration": 0.006914,
     "end_time": "2025-06-09T22:09:11.394430",
     "exception": false,
     "start_time": "2025-06-09T22:09:11.387516",
     "status": "completed"
    },
    "tags": []
   },
   "source": [
    "# 0b."
   ]
  },
  {
   "cell_type": "code",
   "execution_count": 3,
   "id": "0a0a2a5b",
   "metadata": {
    "execution": {
     "iopub.execute_input": "2025-06-09T22:09:11.405454Z",
     "iopub.status.busy": "2025-06-09T22:09:11.405027Z",
     "iopub.status.idle": "2025-06-09T22:09:11.415968Z",
     "shell.execute_reply": "2025-06-09T22:09:11.414990Z"
    },
    "papermill": {
     "duration": 0.018668,
     "end_time": "2025-06-09T22:09:11.417366",
     "exception": false,
     "start_time": "2025-06-09T22:09:11.398698",
     "status": "completed"
    },
    "tags": []
   },
   "outputs": [
    {
     "name": "stdout",
     "output_type": "stream",
     "text": [
      "7\n"
     ]
    },
    {
     "data": {
      "application/javascript": [
       "parent.postMessage({\"jupyterEvent\": \"custom.exercise_interaction\", \"data\": {\"outcomeType\": 1, \"valueTowardsCompletion\": 0.3333333333333333, \"interactionType\": 1, \"questionType\": 1, \"questionId\": \"0.2_ZB\", \"learnToolsVersion\": \"0.3.5\", \"failureMessage\": \"\", \"exceptionClass\": \"\", \"trace\": \"\"}}, \"*\")"
      ],
      "text/plain": [
       "<IPython.core.display.Javascript object>"
      ]
     },
     "metadata": {},
     "output_type": "display_data"
    },
    {
     "data": {
      "text/markdown": [
       "<span style=\"color:#33cc33\">Correct:</span> \n",
       "\n",
       "Keep in mind Python includes spaces (and punctuation) when counting string length."
      ],
      "text/plain": [
       "Correct: \n",
       "\n",
       "Keep in mind Python includes spaces (and punctuation) when counting string length."
      ]
     },
     "metadata": {},
     "output_type": "display_data"
    }
   ],
   "source": [
    "b = \"it's ok\"\n",
    "length = 7\n",
    "print(len(b))\n",
    "q0.b.check()"
   ]
  },
  {
   "cell_type": "markdown",
   "id": "cd0f9609",
   "metadata": {
    "papermill": {
     "duration": 0.004079,
     "end_time": "2025-06-09T22:09:11.425933",
     "exception": false,
     "start_time": "2025-06-09T22:09:11.421854",
     "status": "completed"
    },
    "tags": []
   },
   "source": [
    "# 0c."
   ]
  },
  {
   "cell_type": "code",
   "execution_count": 4,
   "id": "6b790476",
   "metadata": {
    "execution": {
     "iopub.execute_input": "2025-06-09T22:09:11.438192Z",
     "iopub.status.busy": "2025-06-09T22:09:11.437870Z",
     "iopub.status.idle": "2025-06-09T22:09:11.445900Z",
     "shell.execute_reply": "2025-06-09T22:09:11.445117Z"
    },
    "papermill": {
     "duration": 0.014874,
     "end_time": "2025-06-09T22:09:11.447299",
     "exception": false,
     "start_time": "2025-06-09T22:09:11.432425",
     "status": "completed"
    },
    "tags": []
   },
   "outputs": [
    {
     "name": "stdout",
     "output_type": "stream",
     "text": [
      "7\n"
     ]
    },
    {
     "data": {
      "application/javascript": [
       "parent.postMessage({\"jupyterEvent\": \"custom.exercise_interaction\", \"data\": {\"outcomeType\": 1, \"valueTowardsCompletion\": 0.3333333333333333, \"interactionType\": 1, \"questionType\": 1, \"questionId\": \"0.3_ZC\", \"learnToolsVersion\": \"0.3.5\", \"failureMessage\": \"\", \"exceptionClass\": \"\", \"trace\": \"\"}}, \"*\")"
      ],
      "text/plain": [
       "<IPython.core.display.Javascript object>"
      ]
     },
     "metadata": {},
     "output_type": "display_data"
    },
    {
     "data": {
      "text/markdown": [
       "<span style=\"color:#33cc33\">Correct:</span> \n",
       "\n",
       "Even though we use different syntax to create it, the string `c` is identical to `b`. In particular, note that the backslash is not part of the string, so it doesn't contribute to its length."
      ],
      "text/plain": [
       "Correct: \n",
       "\n",
       "Even though we use different syntax to create it, the string `c` is identical to `b`. In particular, note that the backslash is not part of the string, so it doesn't contribute to its length."
      ]
     },
     "metadata": {},
     "output_type": "display_data"
    }
   ],
   "source": [
    "c = 'it\\'s ok'\n",
    "length = 7\n",
    "print(len(c))\n",
    "q0.c.check()"
   ]
  },
  {
   "cell_type": "markdown",
   "id": "b62c7db4",
   "metadata": {
    "papermill": {
     "duration": 0.004509,
     "end_time": "2025-06-09T22:09:11.456439",
     "exception": false,
     "start_time": "2025-06-09T22:09:11.451930",
     "status": "completed"
    },
    "tags": []
   },
   "source": [
    "# 0d."
   ]
  },
  {
   "cell_type": "code",
   "execution_count": 5,
   "id": "12545f8e",
   "metadata": {
    "execution": {
     "iopub.execute_input": "2025-06-09T22:09:11.467433Z",
     "iopub.status.busy": "2025-06-09T22:09:11.467120Z",
     "iopub.status.idle": "2025-06-09T22:09:11.474539Z",
     "shell.execute_reply": "2025-06-09T22:09:11.473684Z"
    },
    "papermill": {
     "duration": 0.014755,
     "end_time": "2025-06-09T22:09:11.476160",
     "exception": false,
     "start_time": "2025-06-09T22:09:11.461405",
     "status": "completed"
    },
    "tags": []
   },
   "outputs": [
    {
     "data": {
      "application/javascript": [
       "parent.postMessage({\"jupyterEvent\": \"custom.exercise_interaction\", \"data\": {\"outcomeType\": 1, \"valueTowardsCompletion\": 0.3333333333333333, \"interactionType\": 1, \"questionType\": 1, \"questionId\": \"0.4_ZD\", \"learnToolsVersion\": \"0.3.5\", \"failureMessage\": \"\", \"exceptionClass\": \"\", \"trace\": \"\"}}, \"*\")"
      ],
      "text/plain": [
       "<IPython.core.display.Javascript object>"
      ]
     },
     "metadata": {},
     "output_type": "display_data"
    },
    {
     "data": {
      "text/markdown": [
       "<span style=\"color:#33cc33\">Correct:</span> \n",
       "\n",
       "The fact that this string was created using triple-quote syntax doesn't make any difference in terms of its content or length. This string is exactly the same as `'hey'`."
      ],
      "text/plain": [
       "Correct: \n",
       "\n",
       "The fact that this string was created using triple-quote syntax doesn't make any difference in terms of its content or length. This string is exactly the same as `'hey'`."
      ]
     },
     "metadata": {},
     "output_type": "display_data"
    }
   ],
   "source": [
    "d = \"\"\"hey\"\"\"\n",
    "length = 3\n",
    "q0.d.check()"
   ]
  },
  {
   "cell_type": "markdown",
   "id": "c14100ca",
   "metadata": {
    "papermill": {
     "duration": 0.004756,
     "end_time": "2025-06-09T22:09:11.485841",
     "exception": false,
     "start_time": "2025-06-09T22:09:11.481085",
     "status": "completed"
    },
    "tags": []
   },
   "source": [
    "# 0e."
   ]
  },
  {
   "cell_type": "code",
   "execution_count": 6,
   "id": "6a96a1bf",
   "metadata": {
    "execution": {
     "iopub.execute_input": "2025-06-09T22:09:11.496560Z",
     "iopub.status.busy": "2025-06-09T22:09:11.496252Z",
     "iopub.status.idle": "2025-06-09T22:09:11.504121Z",
     "shell.execute_reply": "2025-06-09T22:09:11.502962Z"
    },
    "papermill": {
     "duration": 0.014775,
     "end_time": "2025-06-09T22:09:11.505488",
     "exception": false,
     "start_time": "2025-06-09T22:09:11.490713",
     "status": "completed"
    },
    "tags": []
   },
   "outputs": [
    {
     "data": {
      "application/javascript": [
       "parent.postMessage({\"jupyterEvent\": \"custom.exercise_interaction\", \"data\": {\"outcomeType\": 1, \"valueTowardsCompletion\": 0.3333333333333333, \"interactionType\": 1, \"questionType\": 1, \"questionId\": \"0.5_ZE\", \"learnToolsVersion\": \"0.3.5\", \"failureMessage\": \"\", \"exceptionClass\": \"\", \"trace\": \"\"}}, \"*\")"
      ],
      "text/plain": [
       "<IPython.core.display.Javascript object>"
      ]
     },
     "metadata": {},
     "output_type": "display_data"
    },
    {
     "data": {
      "text/markdown": [
       "<span style=\"color:#33cc33\">Correct:</span> \n",
       "\n",
       "The newline character is just a single character! (Even though we represent it to Python using a combination of two characters.)"
      ],
      "text/plain": [
       "Correct: \n",
       "\n",
       "The newline character is just a single character! (Even though we represent it to Python using a combination of two characters.)"
      ]
     },
     "metadata": {},
     "output_type": "display_data"
    }
   ],
   "source": [
    "e = '\\n'\n",
    "length = 1\n",
    "q0.e.check()"
   ]
  },
  {
   "cell_type": "markdown",
   "id": "003fa73d",
   "metadata": {
    "papermill": {
     "duration": 0.005325,
     "end_time": "2025-06-09T22:09:11.516029",
     "exception": false,
     "start_time": "2025-06-09T22:09:11.510704",
     "status": "completed"
    },
    "tags": []
   },
   "source": [
    "# 1.\n",
    "\n",
    "There is a saying that \"Data scientists spend 80% of their time cleaning data, and 20% of their time complaining about cleaning data.\" Let's see if you can write a function to help clean US zip code data. Given a string, it should return whether or not that string represents a valid zip code. For our purposes, a valid zip code is any string consisting of exactly 5 digits.\n",
    "\n",
    "HINT: `str` has a method that will be useful here. Use `help(str)` to review a list of string methods."
   ]
  },
  {
   "cell_type": "code",
   "execution_count": 7,
   "id": "4ceb3967",
   "metadata": {
    "execution": {
     "iopub.execute_input": "2025-06-09T22:09:11.526858Z",
     "iopub.status.busy": "2025-06-09T22:09:11.526457Z",
     "iopub.status.idle": "2025-06-09T22:09:11.534613Z",
     "shell.execute_reply": "2025-06-09T22:09:11.533704Z"
    },
    "papermill": {
     "duration": 0.015443,
     "end_time": "2025-06-09T22:09:11.536204",
     "exception": false,
     "start_time": "2025-06-09T22:09:11.520761",
     "status": "completed"
    },
    "tags": []
   },
   "outputs": [
    {
     "data": {
      "application/javascript": [
       "parent.postMessage({\"jupyterEvent\": \"custom.exercise_interaction\", \"data\": {\"outcomeType\": 1, \"valueTowardsCompletion\": 0.3333333333333333, \"interactionType\": 1, \"questionType\": 2, \"questionId\": \"1_ZipValidator\", \"learnToolsVersion\": \"0.3.5\", \"failureMessage\": \"\", \"exceptionClass\": \"\", \"trace\": \"\"}}, \"*\")"
      ],
      "text/plain": [
       "<IPython.core.display.Javascript object>"
      ]
     },
     "metadata": {},
     "output_type": "display_data"
    },
    {
     "data": {
      "text/markdown": [
       "<span style=\"color:#33cc33\">Correct</span>"
      ],
      "text/plain": [
       "Correct"
      ]
     },
     "metadata": {},
     "output_type": "display_data"
    }
   ],
   "source": [
    "def is_valid_zip(zip_code):\n",
    "    \"\"\"Returns whether the input string is a valid (5 digit) zip code\n",
    "    \"\"\"\n",
    "    pass\n",
    "# help(str)\n",
    "#     # count = 0\n",
    "#     # for digit in zip_code.digits:\n",
    "    if zip_code.isdigit() and len(zip_code) == 5:\n",
    "        return True\n",
    "    return False\n",
    "# # Check your answer\n",
    "q1.check()"
   ]
  },
  {
   "cell_type": "code",
   "execution_count": 8,
   "id": "52643231",
   "metadata": {
    "execution": {
     "iopub.execute_input": "2025-06-09T22:09:11.548083Z",
     "iopub.status.busy": "2025-06-09T22:09:11.547757Z",
     "iopub.status.idle": "2025-06-09T22:09:11.554750Z",
     "shell.execute_reply": "2025-06-09T22:09:11.553859Z"
    },
    "papermill": {
     "duration": 0.014764,
     "end_time": "2025-06-09T22:09:11.556333",
     "exception": false,
     "start_time": "2025-06-09T22:09:11.541569",
     "status": "completed"
    },
    "tags": []
   },
   "outputs": [
    {
     "data": {
      "application/javascript": [
       "parent.postMessage({\"jupyterEvent\": \"custom.exercise_interaction\", \"data\": {\"interactionType\": 3, \"questionType\": 2, \"questionId\": \"1_ZipValidator\", \"learnToolsVersion\": \"0.3.5\", \"valueTowardsCompletion\": 0.0, \"failureMessage\": \"\", \"exceptionClass\": \"\", \"trace\": \"\", \"outcomeType\": 4}}, \"*\")"
      ],
      "text/plain": [
       "<IPython.core.display.Javascript object>"
      ]
     },
     "metadata": {},
     "output_type": "display_data"
    },
    {
     "data": {
      "text/markdown": [
       "<span style=\"color:#33cc99\">Solution:</span> \n",
       "```python\n",
       "def is_valid_zip(zip_code):\n",
       "    return len(zip_code) == 5 and zip_code.isdigit()\n",
       "```"
      ],
      "text/plain": [
       "Solution: \n",
       "```python\n",
       "def is_valid_zip(zip_code):\n",
       "    return len(zip_code) == 5 and zip_code.isdigit()\n",
       "```"
      ]
     },
     "metadata": {},
     "output_type": "display_data"
    }
   ],
   "source": [
    "#q1.hint()\n",
    "q1.solution()"
   ]
  },
  {
   "cell_type": "markdown",
   "id": "9b671a2b",
   "metadata": {
    "papermill": {
     "duration": 0.0052,
     "end_time": "2025-06-09T22:09:11.567474",
     "exception": false,
     "start_time": "2025-06-09T22:09:11.562274",
     "status": "completed"
    },
    "tags": []
   },
   "source": [
    "# 2.\n",
    "\n",
    "A researcher has gathered thousands of news articles. But she wants to focus her attention on articles including a specific word. Complete the function below to help her filter her list of articles.\n",
    "\n",
    "Your function should meet the following criteria:\n",
    "\n",
    "- Do not include documents where the keyword string shows up only as a part of a larger word. For example, if she were looking for the keyword “closed”, you would not include the string “enclosed.” \n",
    "- She does not want you to distinguish upper case from lower case letters. So the phrase “Closed the case.” would be included when the keyword is “closed”\n",
    "- Do not let periods or commas affect what is matched. “It is closed.” would be included when the keyword is “closed”. But you can assume there are no other types of punctuation."
   ]
  },
  {
   "cell_type": "code",
   "execution_count": 9,
   "id": "4ae2c4ab",
   "metadata": {
    "execution": {
     "iopub.execute_input": "2025-06-09T22:09:11.580568Z",
     "iopub.status.busy": "2025-06-09T22:09:11.579820Z",
     "iopub.status.idle": "2025-06-09T22:09:11.588834Z",
     "shell.execute_reply": "2025-06-09T22:09:11.587960Z"
    },
    "papermill": {
     "duration": 0.017343,
     "end_time": "2025-06-09T22:09:11.590284",
     "exception": false,
     "start_time": "2025-06-09T22:09:11.572941",
     "status": "completed"
    },
    "tags": []
   },
   "outputs": [
    {
     "data": {
      "application/javascript": [
       "parent.postMessage({\"jupyterEvent\": \"custom.exercise_interaction\", \"data\": {\"outcomeType\": 1, \"valueTowardsCompletion\": 0.3333333333333333, \"interactionType\": 1, \"questionType\": 2, \"questionId\": \"2_WordSearch\", \"learnToolsVersion\": \"0.3.5\", \"failureMessage\": \"\", \"exceptionClass\": \"\", \"trace\": \"\"}}, \"*\")"
      ],
      "text/plain": [
       "<IPython.core.display.Javascript object>"
      ]
     },
     "metadata": {},
     "output_type": "display_data"
    },
    {
     "data": {
      "text/markdown": [
       "<span style=\"color:#33cc33\">Correct</span>"
      ],
      "text/plain": [
       "Correct"
      ]
     },
     "metadata": {},
     "output_type": "display_data"
    }
   ],
   "source": [
    "def word_search(doc_list, keyword):\n",
    "    \"\"\"\n",
    "    Takes a list of documents (each document is a string) and a keyword. \n",
    "    Returns list of the index values into the original list for all documents \n",
    "    containing the keyword.\n",
    "\n",
    "    Example:\n",
    "    doc_list = [\"The Learn Python Challenge Casino.\", \"They bought a car\", \"Casinoville\"]\n",
    "    >>> word_search(doc_list, 'casino')\n",
    "    >>> [0]\n",
    "    \"\"\"\n",
    "    pass\n",
    "    # doc_list = [\"The Learn Python Challenge Casino.\", \"They bought a car\", \"Casinoville\"]\n",
    "    import string\n",
    "    keyword = keyword.lower()\n",
    "    new_doc_list = [doc.lower().translate(str.maketrans('', '', string.punctuation)).split() for doc in doc_list]\n",
    "    index = [i for i, words in enumerate(new_doc_list) if keyword in words]\n",
    "    return index\n",
    "\n",
    "# Check your answer\n",
    "q2.check()"
   ]
  },
  {
   "cell_type": "code",
   "execution_count": 10,
   "id": "e8b1a81a",
   "metadata": {
    "execution": {
     "iopub.execute_input": "2025-06-09T22:09:11.602717Z",
     "iopub.status.busy": "2025-06-09T22:09:11.602313Z",
     "iopub.status.idle": "2025-06-09T22:09:11.611967Z",
     "shell.execute_reply": "2025-06-09T22:09:11.611090Z"
    },
    "papermill": {
     "duration": 0.017432,
     "end_time": "2025-06-09T22:09:11.613368",
     "exception": false,
     "start_time": "2025-06-09T22:09:11.595936",
     "status": "completed"
    },
    "tags": []
   },
   "outputs": [
    {
     "data": {
      "application/javascript": [
       "parent.postMessage({\"jupyterEvent\": \"custom.exercise_interaction\", \"data\": {\"interactionType\": 2, \"questionType\": 2, \"questionId\": \"2_WordSearch\", \"learnToolsVersion\": \"0.3.5\", \"valueTowardsCompletion\": 0.0, \"failureMessage\": \"\", \"exceptionClass\": \"\", \"trace\": \"\", \"outcomeType\": 4}}, \"*\")"
      ],
      "text/plain": [
       "<IPython.core.display.Javascript object>"
      ]
     },
     "metadata": {},
     "output_type": "display_data"
    },
    {
     "data": {
      "text/markdown": [
       "<span style=\"color:#3366cc\">Hint:</span> Some methods that may be useful here: `str.split()`, `str.strip()`, `str.lower()`."
      ],
      "text/plain": [
       "Hint: Some methods that may be useful here: `str.split()`, `str.strip()`, `str.lower()`."
      ]
     },
     "metadata": {},
     "output_type": "display_data"
    },
    {
     "data": {
      "application/javascript": [
       "parent.postMessage({\"jupyterEvent\": \"custom.exercise_interaction\", \"data\": {\"interactionType\": 3, \"questionType\": 2, \"questionId\": \"2_WordSearch\", \"learnToolsVersion\": \"0.3.5\", \"valueTowardsCompletion\": 0.0, \"failureMessage\": \"\", \"exceptionClass\": \"\", \"trace\": \"\", \"outcomeType\": 4}}, \"*\")"
      ],
      "text/plain": [
       "<IPython.core.display.Javascript object>"
      ]
     },
     "metadata": {},
     "output_type": "display_data"
    },
    {
     "data": {
      "text/markdown": [
       "<span style=\"color:#33cc99\">Solution:</span> \n",
       "```python\n",
       "def word_search(doc_list, keyword):\n",
       "    # list to hold the indices of matching documents\n",
       "    indices = [] \n",
       "    # Iterate through the indices (i) and elements (doc) of documents\n",
       "    for i, doc in enumerate(doc_list):\n",
       "        # Split the string doc into a list of words (according to whitespace)\n",
       "        tokens = doc.split()\n",
       "        # Make a transformed list where we 'normalize' each word to facilitate matching.\n",
       "        # Periods and commas are removed from the end of each word, and it's set to all lowercase.\n",
       "        normalized = [token.rstrip('.,').lower() for token in tokens]\n",
       "        # Is there a match? If so, update the list of matching indices.\n",
       "        if keyword.lower() in normalized:\n",
       "            indices.append(i)\n",
       "    return indices\n",
       "```"
      ],
      "text/plain": [
       "Solution: \n",
       "```python\n",
       "def word_search(doc_list, keyword):\n",
       "    # list to hold the indices of matching documents\n",
       "    indices = [] \n",
       "    # Iterate through the indices (i) and elements (doc) of documents\n",
       "    for i, doc in enumerate(doc_list):\n",
       "        # Split the string doc into a list of words (according to whitespace)\n",
       "        tokens = doc.split()\n",
       "        # Make a transformed list where we 'normalize' each word to facilitate matching.\n",
       "        # Periods and commas are removed from the end of each word, and it's set to all lowercase.\n",
       "        normalized = [token.rstrip('.,').lower() for token in tokens]\n",
       "        # Is there a match? If so, update the list of matching indices.\n",
       "        if keyword.lower() in normalized:\n",
       "            indices.append(i)\n",
       "    return indices\n",
       "```"
      ]
     },
     "metadata": {},
     "output_type": "display_data"
    }
   ],
   "source": [
    "q2.hint()\n",
    "q2.solution()"
   ]
  },
  {
   "cell_type": "markdown",
   "id": "40ad7b43",
   "metadata": {
    "papermill": {
     "duration": 0.005965,
     "end_time": "2025-06-09T22:09:11.625517",
     "exception": false,
     "start_time": "2025-06-09T22:09:11.619552",
     "status": "completed"
    },
    "tags": []
   },
   "source": [
    "# 3.\n",
    "\n",
    "Now the researcher wants to supply multiple keywords to search for. Complete the function below to help her.\n",
    "\n",
    "(You're encouraged to use the `word_search` function you just wrote when implementing this function. Reusing code in this way makes your programs more robust and readable - and it saves typing!)"
   ]
  },
  {
   "cell_type": "code",
   "execution_count": 11,
   "id": "3041d19b",
   "metadata": {
    "execution": {
     "iopub.execute_input": "2025-06-09T22:09:11.638570Z",
     "iopub.status.busy": "2025-06-09T22:09:11.638189Z",
     "iopub.status.idle": "2025-06-09T22:09:11.645889Z",
     "shell.execute_reply": "2025-06-09T22:09:11.645019Z"
    },
    "papermill": {
     "duration": 0.015978,
     "end_time": "2025-06-09T22:09:11.647379",
     "exception": false,
     "start_time": "2025-06-09T22:09:11.631401",
     "status": "completed"
    },
    "tags": []
   },
   "outputs": [
    {
     "data": {
      "application/javascript": [
       "parent.postMessage({\"jupyterEvent\": \"custom.exercise_interaction\", \"data\": {\"outcomeType\": 4, \"interactionType\": 1, \"questionType\": 2, \"questionId\": \"3_MultiWordSearch\", \"learnToolsVersion\": \"0.3.5\", \"valueTowardsCompletion\": 0.0, \"failureMessage\": \"\", \"exceptionClass\": \"\", \"trace\": \"\"}}, \"*\")"
      ],
      "text/plain": [
       "<IPython.core.display.Javascript object>"
      ]
     },
     "metadata": {},
     "output_type": "display_data"
    },
    {
     "data": {
      "text/markdown": [
       "<span style=\"color:#ccaa33\">Check:</span> When you've updated the starter code, `check()` will tell you whether your code is correct. "
      ],
      "text/plain": [
       "Check: When you've updated the starter code, `check()` will tell you whether your code is correct. "
      ]
     },
     "metadata": {},
     "output_type": "display_data"
    }
   ],
   "source": [
    "def multi_word_search(doc_list, keywords):\n",
    "    \"\"\"\n",
    "    Takes list of documents (each document is a string) and a list of keywords.  \n",
    "    Returns a dictionary where each key is a keyword, and the value is a list of indices\n",
    "    (from doc_list) of the documents containing that keyword\n",
    "\n",
    "    >>> doc_list = [\"The Learn Python Challenge Casino.\", \"They bought a car and a casino\", \"Casinoville\"]\n",
    "    >>> keywords = ['casino', 'they']\n",
    "    >>> multi_word_search(doc_list, keywords)\n",
    "    {'casino': [0, 1], 'they': [1]}\n",
    "    \"\"\"\n",
    "    pass\n",
    "\n",
    "# Check your answer\n",
    "q3.check()"
   ]
  },
  {
   "cell_type": "code",
   "execution_count": 12,
   "id": "96d43808",
   "metadata": {
    "execution": {
     "iopub.execute_input": "2025-06-09T22:09:11.660761Z",
     "iopub.status.busy": "2025-06-09T22:09:11.660357Z",
     "iopub.status.idle": "2025-06-09T22:09:11.664493Z",
     "shell.execute_reply": "2025-06-09T22:09:11.663738Z"
    },
    "papermill": {
     "duration": 0.012594,
     "end_time": "2025-06-09T22:09:11.666093",
     "exception": false,
     "start_time": "2025-06-09T22:09:11.653499",
     "status": "completed"
    },
    "tags": []
   },
   "outputs": [],
   "source": [
    "#q3.solution()"
   ]
  },
  {
   "cell_type": "markdown",
   "id": "f8583725",
   "metadata": {
    "papermill": {
     "duration": 0.005696,
     "end_time": "2025-06-09T22:09:11.677999",
     "exception": false,
     "start_time": "2025-06-09T22:09:11.672303",
     "status": "completed"
    },
    "tags": []
   },
   "source": [
    "# Keep Going\n",
    "\n",
    "You've learned a lot. But even the best programmers rely heavily on \"libraries\" of code from other programmers. You'll learn about that in **[the last lesson](https://www.kaggle.com/colinmorris/working-with-external-libraries)**.\n"
   ]
  },
  {
   "cell_type": "markdown",
   "id": "50122391",
   "metadata": {
    "papermill": {
     "duration": 0.005585,
     "end_time": "2025-06-09T22:09:11.689403",
     "exception": false,
     "start_time": "2025-06-09T22:09:11.683818",
     "status": "completed"
    },
    "tags": []
   },
   "source": [
    "---\n",
    "\n",
    "\n",
    "\n",
    "\n",
    "*Have questions or comments? Visit the [course discussion forum](https://www.kaggle.com/learn/python/discussion) to chat with other learners.*"
   ]
  }
 ],
 "metadata": {
  "kaggle": {
   "accelerator": "none",
   "dataSources": [],
   "isGpuEnabled": false,
   "isInternetEnabled": false,
   "language": "python",
   "sourceType": "notebook"
  },
  "kernelspec": {
   "display_name": "Python 3",
   "language": "python",
   "name": "python3"
  },
  "language_info": {
   "codemirror_mode": {
    "name": "ipython",
    "version": 3
   },
   "file_extension": ".py",
   "mimetype": "text/x-python",
   "name": "python",
   "nbconvert_exporter": "python",
   "pygments_lexer": "ipython3",
   "version": "3.11.11"
  },
  "learntools_metadata": {
   "lesson_index": 5,
   "type": "exercise"
  },
  "papermill": {
   "default_parameters": {},
   "duration": 8.298274,
   "end_time": "2025-06-09T22:09:12.216061",
   "environment_variables": {},
   "exception": null,
   "input_path": "__notebook__.ipynb",
   "output_path": "__notebook__.ipynb",
   "parameters": {},
   "start_time": "2025-06-09T22:09:03.917787",
   "version": "2.6.0"
  }
 },
 "nbformat": 4,
 "nbformat_minor": 5
}
